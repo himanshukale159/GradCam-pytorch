{
 "cells": [
  {
   "cell_type": "markdown",
   "metadata": {},
   "source": [
    "# Import Libraries"
   ]
  },
  {
   "cell_type": "code",
   "execution_count": 1,
   "metadata": {},
   "outputs": [],
   "source": [
    "import torch\n",
    "import torchvision\n",
    "import torchvision.transforms as transforms\n",
    "from torchvision.datasets import ImageFolder\n",
    "from torch.utils.data import DataLoader,random_split,Subset\n",
    "from torchvision import models\n",
    "import torch.nn as nn\n",
    "import torch.optim as optim\n",
    "from sklearn.metrics import accuracy_score, precision_score, recall_score, f1_score\n",
    "from tqdm import tqdm\n",
    "import random\n",
    "from collections import Counter"
   ]
  },
  {
   "cell_type": "markdown",
   "metadata": {},
   "source": [
    "# Data Preparation"
   ]
  },
  {
   "cell_type": "code",
   "execution_count": 2,
   "metadata": {},
   "outputs": [
    {
     "name": "stderr",
     "output_type": "stream",
     "text": [
      "100%|██████████| 2000/2000 [00:02<00:00, 681.57it/s]"
     ]
    },
    {
     "name": "stdout",
     "output_type": "stream",
     "text": [
      "Label 1: 1003 images\n",
      "Label 0: 997 images\n",
      "Training Dataset : 1600 | Validation Dataset : 400\n"
     ]
    },
    {
     "name": "stderr",
     "output_type": "stream",
     "text": [
      "\n"
     ]
    }
   ],
   "source": [
    "dataset_folder = \"/Users/himanshu_mac/Workspace/self_projects/GradCam_on_dog_Vs_cat/kagglecatsanddogs_3367a/PetImages\"\n",
    "\n",
    "transform = transforms.Compose([\n",
    "    transforms.Resize((224, 224)),\n",
    "    transforms.ToTensor(),\n",
    "    transforms.Normalize(mean=[0.485, 0.456, 0.406], std=[0.229, 0.224, 0.225])\n",
    "])\n",
    "\n",
    "dataset = ImageFolder(root = dataset_folder ,\n",
    "                      transform = transform )\n",
    "\n",
    "sampled_indices = random.sample(range(len(dataset)), 2000)\n",
    "sampled_dataset = Subset(dataset, sampled_indices)\n",
    "\n",
    "labels = [label for _, label in tqdm(sampled_dataset,total = len(sampled_dataset))]\n",
    "label_counts = Counter(labels)\n",
    "for label, count in label_counts.items():\n",
    "    print(f\"Label {label}: {count} images\")\n",
    "\n",
    "train_size = int(0.8 * len(sampled_dataset))\n",
    "validation_size = len(sampled_dataset) - train_size\n",
    "\n",
    "train_dataset, val_dataset = random_split(sampled_dataset, [train_size, validation_size])\n",
    "\n",
    "print(f\"Training Dataset : {len(train_dataset)} | Validation Dataset : {len(val_dataset)}\")\n",
    "\n",
    "train_loader = DataLoader(train_dataset, shuffle= True, batch_size= 4)\n",
    "val_loader = DataLoader(val_dataset, shuffle = False, batch_size= 4)"
   ]
  },
  {
   "cell_type": "markdown",
   "metadata": {},
   "source": [
    "# Model Preparation"
   ]
  },
  {
   "cell_type": "code",
   "execution_count": 3,
   "metadata": {},
   "outputs": [],
   "source": [
    "class ClassificationModel(nn.Module):\n",
    "\n",
    "    def __init__(self):\n",
    "        super(ClassificationModel, self).__init__()\n",
    "\n",
    "        self.backbone = models.vit_b_16(weights=True)\n",
    "        self.backbone.heads = nn.Linear(in_features=768,\n",
    "                                       out_features = 2)\n",
    "    \n",
    "    def forward(self,x):\n",
    "\n",
    "        return self.backbone(x)"
   ]
  },
  {
   "cell_type": "code",
   "execution_count": 4,
   "metadata": {},
   "outputs": [
    {
     "name": "stderr",
     "output_type": "stream",
     "text": [
      "/Users/himanshu_mac/Workspace/self_projects/base_env/lib/python3.12/site-packages/torchvision/models/_utils.py:223: UserWarning: Arguments other than a weight enum or `None` for 'weights' are deprecated since 0.13 and may be removed in the future. The current behavior is equivalent to passing `weights=ViT_B_16_Weights.IMAGENET1K_V1`. You can also use `weights=ViT_B_16_Weights.DEFAULT` to get the most up-to-date weights.\n",
      "  warnings.warn(msg)\n"
     ]
    },
    {
     "name": "stdout",
     "output_type": "stream",
     "text": [
      "Total parameters: 85800194\n",
      "Trainable parameters: 85800194\n",
      "Non-trainable parameters: 0\n",
      "Percentage of trainable parameters: 100.00%\n"
     ]
    }
   ],
   "source": [
    "def count_parameters(model):\n",
    "    total_params = sum(p.numel() for p in model.parameters())\n",
    "    trainable_params = sum(p.numel() for p in model.parameters() if p.requires_grad)\n",
    "    non_trainable_params = total_params - trainable_params\n",
    "    trainable_percentage = 100 * trainable_params / total_params\n",
    "\n",
    "    print(f\"Total parameters: {total_params}\")\n",
    "    print(f\"Trainable parameters: {trainable_params}\")\n",
    "    print(f\"Non-trainable parameters: {non_trainable_params}\")\n",
    "    print(f\"Percentage of trainable parameters: {trainable_percentage:.2f}%\")\n",
    "\n",
    "model = ClassificationModel()\n",
    "\n",
    "count_parameters(model)"
   ]
  },
  {
   "cell_type": "markdown",
   "metadata": {},
   "source": [
    "# Set training Parameters"
   ]
  },
  {
   "cell_type": "code",
   "execution_count": 5,
   "metadata": {},
   "outputs": [],
   "source": [
    "device = torch.device(\"mps\" if torch.backends.mps.is_available() else \"cpu\")\n",
    "learning_rate = 1e-5\n",
    "num_epochs = 10\n",
    "\n",
    "model = model.to(device)\n",
    "criterion = nn.CrossEntropyLoss()\n",
    "optimizer = optim.AdamW(params= model.parameters(), lr = learning_rate, weight_decay= 0.01)"
   ]
  },
  {
   "cell_type": "markdown",
   "metadata": {},
   "source": [
    "# Train the model"
   ]
  },
  {
   "cell_type": "code",
   "execution_count": 6,
   "metadata": {},
   "outputs": [],
   "source": [
    "def train_and_validate(model, train_loader, val_loader, criterion, optimizer, device, epochs=10):\n",
    "    metrics = {\n",
    "        'train': {'accuracy': [], 'precision': [], 'recall': [], 'f1_score': [], 'loss': []},\n",
    "        'val': {'accuracy': [], 'precision': [], 'recall': [], 'f1_score': [], 'loss': []}\n",
    "    }\n",
    "    best_acc = 0.0\n",
    "\n",
    "    for epoch in range(epochs):\n",
    "        # Training\n",
    "        model.train()\n",
    "        train_targets, train_predictions = [], []\n",
    "        train_losses = []\n",
    "        for inputs, labels in tqdm(train_loader, total= len(train_loader), desc= \"Training\"):\n",
    "            inputs, labels = inputs.to(device), labels.to(device)\n",
    "            optimizer.zero_grad()\n",
    "            outputs = model(inputs)\n",
    "            loss = criterion(outputs, labels)\n",
    "            loss.backward()\n",
    "            optimizer.step()\n",
    "\n",
    "            _, preds = torch.max(outputs, 1)\n",
    "            train_losses.append(loss.item())\n",
    "            train_targets.extend(labels.cpu().numpy())\n",
    "            train_predictions.extend(preds.cpu().numpy())\n",
    "\n",
    "        train_acc = accuracy_score(train_targets, train_predictions)\n",
    "        train_prec = precision_score(train_targets, train_predictions, average='binary')\n",
    "        train_rec = recall_score(train_targets, train_predictions, average='binary')\n",
    "        train_f1 = f1_score(train_targets, train_predictions, average='binary')\n",
    "        train_loss = sum(train_losses) / len(train_losses)\n",
    "\n",
    "        metrics['train']['accuracy'].append(train_acc)\n",
    "        metrics['train']['precision'].append(train_prec)\n",
    "        metrics['train']['recall'].append(train_rec)\n",
    "        metrics['train']['f1_score'].append(train_f1)\n",
    "        metrics['train']['loss'].append(train_loss)\n",
    "\n",
    "        # Validation\n",
    "        model.eval()\n",
    "        val_targets, val_predictions = [], []\n",
    "        val_losses = []\n",
    "        with torch.no_grad():\n",
    "            for inputs, labels in tqdm(val_loader, total= len(val_loader), desc= \"Valdiation\"):\n",
    "                inputs, labels = inputs.to(device), labels.to(device)\n",
    "                outputs = model(inputs)\n",
    "                loss = criterion(outputs, labels)\n",
    "\n",
    "                _, preds = torch.max(outputs, 1)\n",
    "                val_losses.append(loss.item())\n",
    "                val_targets.extend(labels.cpu().numpy())\n",
    "                val_predictions.extend(preds.cpu().numpy())\n",
    "\n",
    "        val_acc = accuracy_score(val_targets, val_predictions)\n",
    "        val_prec = precision_score(val_targets, val_predictions, average='binary')\n",
    "        val_rec = recall_score(val_targets, val_predictions, average='binary')\n",
    "        val_f1 = f1_score(val_targets, val_predictions, average='binary')\n",
    "        val_loss = sum(val_losses) / len(val_losses)\n",
    "\n",
    "        metrics['val']['accuracy'].append(val_acc)\n",
    "        metrics['val']['precision'].append(val_prec)\n",
    "        metrics['val']['recall'].append(val_rec)\n",
    "        metrics['val']['f1_score'].append(val_f1)\n",
    "        metrics['val']['loss'].append(val_loss)\n",
    "\n",
    "        print(f\"Epoch {epoch+1}/{epochs} - Train Loss: {train_loss:.4f} Acc: {train_acc:.4f} Val Loss: {val_loss:.4f} Acc: {val_acc:.4f}\")\n",
    "    \n",
    "        if val_acc > best_acc:\n",
    "            best_acc = val_acc\n",
    "            # best_model_wts = copy.deepcopy(model.state_dict())\n",
    "            torch.save(model.state_dict(), 'best_model.pth')\n",
    "            print(f'Saved new best model with accuracy: {best_acc:.4f}')\n",
    "            \n",
    "    return metrics"
   ]
  },
  {
   "cell_type": "code",
   "execution_count": 7,
   "metadata": {},
   "outputs": [
    {
     "name": "stderr",
     "output_type": "stream",
     "text": [
      "Training: 100%|██████████| 400/400 [03:10<00:00,  2.11it/s]\n",
      "Valdiation: 100%|██████████| 100/100 [00:13<00:00,  7.60it/s]\n"
     ]
    },
    {
     "name": "stdout",
     "output_type": "stream",
     "text": [
      "Epoch 1/10 - Train Loss: 0.0943 Acc: 0.9625 Val Loss: 0.0714 Acc: 0.9725\n",
      "Saved new best model with accuracy: 0.9725\n"
     ]
    },
    {
     "name": "stderr",
     "output_type": "stream",
     "text": [
      "Training: 100%|██████████| 400/400 [03:11<00:00,  2.09it/s]\n",
      "Valdiation: 100%|██████████| 100/100 [00:14<00:00,  6.72it/s]\n"
     ]
    },
    {
     "name": "stdout",
     "output_type": "stream",
     "text": [
      "Epoch 2/10 - Train Loss: 0.0106 Acc: 0.9975 Val Loss: 0.1015 Acc: 0.9725\n"
     ]
    },
    {
     "name": "stderr",
     "output_type": "stream",
     "text": [
      "Training: 100%|██████████| 400/400 [03:09<00:00,  2.11it/s]\n",
      "Valdiation: 100%|██████████| 100/100 [00:14<00:00,  6.93it/s]\n"
     ]
    },
    {
     "name": "stdout",
     "output_type": "stream",
     "text": [
      "Epoch 3/10 - Train Loss: 0.0162 Acc: 0.9944 Val Loss: 0.0533 Acc: 0.9825\n",
      "Saved new best model with accuracy: 0.9825\n"
     ]
    },
    {
     "name": "stderr",
     "output_type": "stream",
     "text": [
      "Training: 100%|██████████| 400/400 [03:09<00:00,  2.11it/s]\n",
      "Valdiation: 100%|██████████| 100/100 [00:14<00:00,  6.81it/s]\n"
     ]
    },
    {
     "name": "stdout",
     "output_type": "stream",
     "text": [
      "Epoch 4/10 - Train Loss: 0.0137 Acc: 0.9944 Val Loss: 0.1119 Acc: 0.9625\n"
     ]
    },
    {
     "name": "stderr",
     "output_type": "stream",
     "text": [
      "Training: 100%|██████████| 400/400 [03:09<00:00,  2.11it/s]\n",
      "Valdiation: 100%|██████████| 100/100 [00:14<00:00,  6.89it/s]\n"
     ]
    },
    {
     "name": "stdout",
     "output_type": "stream",
     "text": [
      "Epoch 5/10 - Train Loss: 0.0010 Acc: 1.0000 Val Loss: 0.0612 Acc: 0.9900\n",
      "Saved new best model with accuracy: 0.9900\n"
     ]
    },
    {
     "name": "stderr",
     "output_type": "stream",
     "text": [
      "Training: 100%|██████████| 400/400 [03:07<00:00,  2.13it/s]\n",
      "Valdiation: 100%|██████████| 100/100 [00:14<00:00,  6.71it/s]\n"
     ]
    },
    {
     "name": "stdout",
     "output_type": "stream",
     "text": [
      "Epoch 6/10 - Train Loss: 0.0003 Acc: 1.0000 Val Loss: 0.0633 Acc: 0.9900\n"
     ]
    },
    {
     "name": "stderr",
     "output_type": "stream",
     "text": [
      "Training: 100%|██████████| 400/400 [03:10<00:00,  2.10it/s]\n",
      "Valdiation: 100%|██████████| 100/100 [00:14<00:00,  6.86it/s]\n"
     ]
    },
    {
     "name": "stdout",
     "output_type": "stream",
     "text": [
      "Epoch 7/10 - Train Loss: 0.0002 Acc: 1.0000 Val Loss: 0.0653 Acc: 0.9900\n"
     ]
    },
    {
     "name": "stderr",
     "output_type": "stream",
     "text": [
      "Training: 100%|██████████| 400/400 [03:14<00:00,  2.06it/s]\n",
      "Valdiation: 100%|██████████| 100/100 [00:14<00:00,  6.80it/s]\n"
     ]
    },
    {
     "name": "stdout",
     "output_type": "stream",
     "text": [
      "Epoch 8/10 - Train Loss: 0.0001 Acc: 1.0000 Val Loss: 0.0670 Acc: 0.9900\n"
     ]
    },
    {
     "name": "stderr",
     "output_type": "stream",
     "text": [
      "Training: 100%|██████████| 400/400 [03:11<00:00,  2.09it/s]\n",
      "Valdiation: 100%|██████████| 100/100 [00:14<00:00,  6.72it/s]\n"
     ]
    },
    {
     "name": "stdout",
     "output_type": "stream",
     "text": [
      "Epoch 9/10 - Train Loss: 0.0001 Acc: 1.0000 Val Loss: 0.0686 Acc: 0.9900\n"
     ]
    },
    {
     "name": "stderr",
     "output_type": "stream",
     "text": [
      "Training: 100%|██████████| 400/400 [03:13<00:00,  2.07it/s]\n",
      "Valdiation: 100%|██████████| 100/100 [00:14<00:00,  7.05it/s]"
     ]
    },
    {
     "name": "stdout",
     "output_type": "stream",
     "text": [
      "Epoch 10/10 - Train Loss: 0.0001 Acc: 1.0000 Val Loss: 0.0701 Acc: 0.9900\n"
     ]
    },
    {
     "name": "stderr",
     "output_type": "stream",
     "text": [
      "\n"
     ]
    }
   ],
   "source": [
    "metrics = train_and_validate(model, train_loader, val_loader, criterion, optimizer, device, epochs = num_epochs)"
   ]
  },
  {
   "cell_type": "code",
   "execution_count": null,
   "metadata": {},
   "outputs": [],
   "source": [
    "import numpy as np\n",
    "import matplotlib.pyplot as plt\n",
    "\n",
    "def moving_average(data, window_size):\n",
    "    \"\"\" Calculate the moving average of the given list using a sliding window \"\"\"\n",
    "    weights = np.ones(window_size) / window_size\n",
    "    return np.convolve(data, weights, mode='valid')\n"
   ]
  },
  {
   "cell_type": "code",
   "execution_count": 16,
   "metadata": {},
   "outputs": [
    {
     "data": {
      "image/png": "[encoded data removed]",
      "text/plain": [
       "<Figure size 1400x600 with 2 Axes>"
      ]
     },
     "metadata": {},
     "output_type": "display_data"
    }
   ],
   "source": [
    "window_size = 5\n",
    "\n",
    "# Calculate moving averages\n",
    "smoothed_train_loss = moving_average(metrics['train']['loss'], window_size)\n",
    "smoothed_val_loss = moving_average(metrics['val']['loss'], window_size)\n",
    "smoothed_train_acc = moving_average(metrics['train']['accuracy'], window_size)\n",
    "smoothed_val_acc = moving_average(metrics['val']['accuracy'], window_size)\n",
    "\n",
    "plt.figure(figsize=(14, 6))\n",
    "\n",
    "# Plotting the smoothed loss curves\n",
    "plt.subplot(121)\n",
    "plt.plot(smoothed_train_loss, label=\"Train Loss\", marker = \"o\")\n",
    "plt.plot(smoothed_val_loss, label=\"Val Loss\", marker = \"o\")\n",
    "plt.xlabel(\"Epochs\")\n",
    "plt.ylabel(\"Loss\")\n",
    "plt.title(\"Loss Curve\")\n",
    "plt.legend()\n",
    "plt.grid()\n",
    "\n",
    "# Plotting the smoothed accuracy curves\n",
    "plt.subplot(122)\n",
    "plt.plot(smoothed_train_acc, label=\"Train Acc\", marker = \"o\")\n",
    "plt.plot(smoothed_val_acc, label=\"Val Acc\", marker = \"o\")\n",
    "plt.xlabel(\"Epochs\")\n",
    "plt.ylabel(\"Accuracy\")\n",
    "plt.title(\"Accuracy Curve\")\n",
    "plt.legend()\n",
    "\n",
    "plt.grid()\n",
    "plt.show()"
   ]
  },
  {
   "cell_type": "code",
   "execution_count": null,
   "metadata": {},
   "outputs": [],
   "source": []
  }
 ],
 "metadata": {
  "kernelspec": {
   "display_name": "base_env",
   "language": "python",
   "name": "python3"
  },
  "language_info": {
   "codemirror_mode": {
    "name": "ipython",
    "version": 3
   },
   "file_extension": ".py",
   "mimetype": "text/x-python",
   "name": "python",
   "nbconvert_exporter": "python",
   "pygments_lexer": "ipython3",
   "version": "3.12.9"
  }
 },
 "nbformat": 4,
 "nbformat_minor": 2
}
